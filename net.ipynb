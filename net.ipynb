{
 "cells": [
  {
   "cell_type": "code",
   "execution_count": 1,
   "metadata": {},
   "outputs": [],
   "source": [
    "import pandas as pd"
   ]
  },
  {
   "cell_type": "code",
   "execution_count": 2,
   "metadata": {},
   "outputs": [],
   "source": [
    "df1 = pd.read_csv('./train/in.tsv', sep='\\t', nrows=5000, header=None)\n",
    "\n",
    "df2 = pd.read_csv('./train/expected.tsv', sep='\\t', nrows=5000, header=None)\n",
    "\n",
    "df1['score'] = pd.Series(df2[0])\n",
    "\n",
    "df1.rename(columns = {0:'text'}, inplace = True) "
   ]
  },
  {
   "cell_type": "code",
   "execution_count": 3,
   "metadata": {},
   "outputs": [],
   "source": [
    "dev_df1 = pd.read_csv('./dev-0/in.tsv', sep='\\t', nrows=2000, header=None)\n",
    "\n",
    "dev_df2 = pd.read_csv('./dev-0/expected.tsv', sep='\\t', nrows=2000, header=None)\n",
    "\n",
    "dev_df1['score'] = pd.Series(dev_df2[0])\n",
    "\n",
    "dev_df1.rename(columns = {0:'text'}, inplace = True)"
   ]
  },
  {
   "cell_type": "code",
   "execution_count": 4,
   "metadata": {},
   "outputs": [
    {
     "name": "stderr",
     "output_type": "stream",
     "text": [
      "[nltk_data] Downloading package punkt to\n",
      "[nltk_data]     C:\\Users\\miki-\\AppData\\Roaming\\nltk_data...\n",
      "[nltk_data]   Package punkt is already up-to-date!\n"
     ]
    }
   ],
   "source": [
    "import nltk\n",
    "import re\n",
    "nltk.download('punkt')\n",
    "\n",
    "df1.loc[:,\"text\"] = df1.text.apply(lambda x : str.lower(x))\n",
    "\n",
    "df1.loc[:,\"text\"] = df1.text.apply(lambda x : \" \".join(re.findall('[\\w]+',x)))\n",
    "\n",
    "df1.loc[:,\"tokenized_text\"] = df1.apply(lambda row: nltk.word_tokenize(row['text']), axis=1)"
   ]
  },
  {
   "cell_type": "code",
   "execution_count": 5,
   "metadata": {},
   "outputs": [],
   "source": [
    "dev_df1.loc[:,\"text\"] = dev_df1.text.apply(lambda x : str.lower(x))\n",
    "\n",
    "dev_df1.loc[:,\"text\"] = dev_df1.text.apply(lambda x : \" \".join(re.findall('[\\w]+',x)))\n",
    "\n",
    "dev_df1.loc[:,\"tokenized_text\"] = dev_df1.apply(lambda row: nltk.word_tokenize(row['text']), axis=1)"
   ]
  },
  {
   "cell_type": "code",
   "execution_count": 6,
   "metadata": {},
   "outputs": [],
   "source": [
    "import torch.nn as nn\n",
    "import torch.nn.functional as F\n",
    "import torch.optim as optim\n",
    "\n",
    "import torch\n",
    "\n",
    "device = torch.device(\"cuda\" if torch.cuda.is_available() else \"cpu\")"
   ]
  },
  {
   "cell_type": "code",
   "execution_count": 7,
   "metadata": {},
   "outputs": [],
   "source": [
    "from gensim import corpora\n",
    "my_dict = corpora.Dictionary(df1['tokenized_text'])"
   ]
  },
  {
   "cell_type": "code",
   "execution_count": 8,
   "metadata": {},
   "outputs": [],
   "source": [
    "VOCAB_SIZE = len(my_dict)\n",
    "NUM_LABELS = 2\n",
    "\n",
    "def make_bow_vector(review_dict, sentence):\n",
    "    vec = torch.zeros(VOCAB_SIZE, dtype=torch.float64, device=device)\n",
    "    for word in sentence:\n",
    "        vec[review_dict.token2id[word]] += 1\n",
    "    return vec.view(1, -1).float()"
   ]
  },
  {
   "cell_type": "code",
   "execution_count": 9,
   "metadata": {},
   "outputs": [],
   "source": [
    "def make_target(label):\n",
    "    if label == 0:\n",
    "        return torch.tensor([0], dtype=torch.long, device=device)\n",
    "    elif label == 1:\n",
    "        return torch.tensor([1], dtype=torch.long, device=device)"
   ]
  },
  {
   "cell_type": "code",
   "execution_count": 10,
   "metadata": {},
   "outputs": [],
   "source": [
    "class BoWClassifier(nn.Module):\n",
    "\n",
    "    def __init__(self, num_labels, vocab_size):\n",
    "        super(BoWClassifier, self).__init__()\n",
    "        self.linear = nn.Linear(vocab_size, num_labels)\n",
    "\n",
    "    def forward(self, bow_vec):\n",
    "        return F.log_softmax(self.linear(bow_vec), dim=1)"
   ]
  },
  {
   "cell_type": "code",
   "execution_count": 11,
   "metadata": {},
   "outputs": [],
   "source": [
    "bow_nn_model = BoWClassifier(NUM_LABELS, VOCAB_SIZE)\n",
    "bow_nn_model.to(device)\n",
    "\n",
    "loss_function = nn.NLLLoss()\n",
    "\n",
    "optimizer = optim.SGD(bow_nn_model.parameters(), lr=0.01)"
   ]
  },
  {
   "cell_type": "code",
   "execution_count": 12,
   "metadata": {},
   "outputs": [],
   "source": [
    "X_train, X_test, Y_train, Y_test = df1.loc[:,['tokenized_text']], dev_df1['tokenized_text'], df1.loc[:,['score']], dev_df1['score']"
   ]
  },
  {
   "cell_type": "code",
   "execution_count": null,
   "metadata": {},
   "outputs": [],
   "source": [
    "import time\n",
    "start_time = time.time()\n",
    "\n",
    "for epoch in range(100):\n",
    "    for index, row in X_train.iterrows():\n",
    "        bow_nn_model.zero_grad()\n",
    "\n",
    "        bow_vec = make_bow_vector(my_dict, row['tokenized_text'])\n",
    "        target = make_target(Y_train['score'][index])\n",
    "\n",
    "        probs = bow_nn_model(bow_vec)\n",
    "\n",
    "        loss = loss_function(probs, target)\n",
    "        loss.backward()\n",
    "        optimizer.step()\n",
    "print(\"Total time: \" + str(time.time() - start_time))"
   ]
  },
  {
   "cell_type": "code",
   "execution_count": null,
   "metadata": {},
   "outputs": [],
   "source": [
    "from sklearn.metrics import classification_report\n",
    "bow_nn_predictions = []\n",
    "original_lables = []\n",
    "start_time = time.time()\n",
    "with torch.no_grad():\n",
    "    for index, row in X_test.iterrows():\n",
    "        bow_vec = make_bow_vector(my_dict, row['tokenized_text'])\n",
    "        probs = bow_nn_model(bow_vec)\n",
    "        bow_nn_predictions.append(torch.argmax(probs, dim=1).cpu().numpy()[0])\n",
    "        original_lables.append(make_target(Y_test['score'][index]).cpu().numpy()[0])\n",
    "print(classification_report(original_lables,bow_nn_predictions))\n",
    "print(\"Total time predict: \" + str(time.time() - start_time))"
   ]
  },
  {
   "cell_type": "code",
   "execution_count": null,
   "metadata": {},
   "outputs": [],
   "source": [
    "dev2_df = pd.read_csv('./dev-1/in.tsv', sep='\\t', header=None)\n",
    "dev2_df.rename(columns = {0:'text'}, inplace = True)\n",
    "dev2_df.loc[:,\"text\"] = dev_df1.text.apply(lambda x : str.lower(x))\n",
    "dev2_df.loc[:,\"text\"] = dev_df1.text.apply(lambda x : \" \".join(re.findall('[\\w]+',x)))\n",
    "dev2_df.loc[:,\"tokenized_text\"] = dev_df1.apply(lambda row: nltk.word_tokenize(row['text']), axis=1)"
   ]
  },
  {
   "cell_type": "code",
   "execution_count": null,
   "metadata": {},
   "outputs": [],
   "source": [
    "f=open('dev-1/out.tsv','w')\n",
    "X_test2, Y_test2 = dev2_df[:,['tokenized_text']], dev2_df[:,['score']]\n",
    "with torch.no_grad():\n",
    "    for index, row in X_test2.iterrows():\n",
    "        bow_vec = make_bow_vector(my_dict, row['tokenized_text'])\n",
    "        probs = bow_nn_model(bow_vec)\n",
    "        y_pred = torch.argmax(probs, dim=1).cpu().numpy()[0]\n",
    "        f.write(str(int(y_pred)) + '\\n')\n",
    "f.close()"
   ]
  },
  {
   "cell_type": "code",
   "execution_count": null,
   "metadata": {},
   "outputs": [],
   "source": [
    "test_df = pd.read_csv('./dev-1/in.tsv', sep='\\t', header=None)\n",
    "test_df.rename(columns = {0:'text'}, inplace = True)\n",
    "test_df.loc[:,\"text\"] = test.text.apply(lambda x : str.lower(x))\n",
    "test_df.loc[:,\"text\"] = test.text.apply(lambda x : \" \".join(re.findall('[\\w]+',x)))\n",
    "test_df.loc[:,\"tokenized_text\"] = test.apply(lambda row: nltk.word_tokenize(row['text']), axis=1)"
   ]
  },
  {
   "cell_type": "code",
   "execution_count": null,
   "metadata": {},
   "outputs": [],
   "source": [
    "f=open('test-A/out.tsv','w')\n",
    "X_testA, Y_testA = test_df[:,['tokenized_text']], test_df[:,['score']]\n",
    "with torch.no_grad():\n",
    "    for index, row in X_testA.iterrows():\n",
    "        bow_vec = make_bow_vector(my_dict, row['tokenized_text'])\n",
    "        probs = bow_nn_model(bow_vec)\n",
    "        y_pred = torch.argmax(probs, dim=1).cpu().numpy()[0]\n",
    "        f.write(str(int(y_pred)) + '\\n')\n",
    "f.close()"
   ]
  }
 ],
 "metadata": {
  "kernelspec": {
   "display_name": "Python 3",
   "language": "python",
   "name": "python3"
  },
  "language_info": {
   "codemirror_mode": {
    "name": "ipython",
    "version": 3
   },
   "file_extension": ".py",
   "mimetype": "text/x-python",
   "name": "python",
   "nbconvert_exporter": "python",
   "pygments_lexer": "ipython3",
   "version": "3.8.5"
  }
 },
 "nbformat": 4,
 "nbformat_minor": 4
}
